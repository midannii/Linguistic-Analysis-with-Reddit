{
 "cells": [
  {
   "cell_type": "markdown",
   "metadata": {},
   "source": [
    "## [PushShiftAPI](https://github.com/pushshift/api) 로 `reddit`의 `subreddit`을 [크롤링](https://www.reddit.com/r/pushshift/comments/bcxguf/new_to_pushshift_read_this_faq/)해보자"
   ]
  },
  {
   "cell_type": "code",
   "execution_count": 5,
   "metadata": {
    "collapsed": true,
    "jupyter": {
     "outputs_hidden": true
    }
   },
   "outputs": [
    {
     "name": "stdout",
     "output_type": "stream",
     "text": [
      "Collecting psaw\n",
      "  Downloading psaw-0.0.12-py3-none-any.whl (15 kB)\n",
      "Requirement already satisfied: requests in /opt/anaconda3/lib/python3.7/site-packages (from psaw) (2.22.0)\n",
      "Requirement already satisfied: Click in /opt/anaconda3/lib/python3.7/site-packages (from psaw) (7.0)\n",
      "Requirement already satisfied: urllib3!=1.25.0,!=1.25.1,<1.26,>=1.21.1 in /opt/anaconda3/lib/python3.7/site-packages (from requests->psaw) (1.25.8)\n",
      "Requirement already satisfied: certifi>=2017.4.17 in /opt/anaconda3/lib/python3.7/site-packages (from requests->psaw) (2019.11.28)\n",
      "Requirement already satisfied: chardet<3.1.0,>=3.0.2 in /opt/anaconda3/lib/python3.7/site-packages (from requests->psaw) (3.0.4)\n",
      "Requirement already satisfied: idna<2.9,>=2.5 in /opt/anaconda3/lib/python3.7/site-packages (from requests->psaw) (2.8)\n",
      "Installing collected packages: psaw\n",
      "Successfully installed psaw-0.0.12\n"
     ]
    }
   ],
   "source": [
    "# psaw 다운받기\n",
    "## https://github.com/dmarx/psaw\n",
    "!pip install psaw"
   ]
  },
  {
   "cell_type": "code",
   "execution_count": 1,
   "metadata": {},
   "outputs": [],
   "source": [
    "import psaw\n",
    "from psaw import PushshiftAPI"
   ]
  },
  {
   "cell_type": "code",
   "execution_count": 2,
   "metadata": {},
   "outputs": [
    {
     "name": "stderr",
     "output_type": "stream",
     "text": [
      "/opt/anaconda3/lib/python3.7/site-packages/psaw/PushshiftAPI.py:192: UserWarning: Got non 200 code 502\n",
      "  warnings.warn(\"Got non 200 code %s\" % response.status_code)\n",
      "/opt/anaconda3/lib/python3.7/site-packages/psaw/PushshiftAPI.py:180: UserWarning: Unable to connect to pushshift.io. Retrying after backoff.\n",
      "  warnings.warn(\"Unable to connect to pushshift.io. Retrying after backoff.\")\n"
     ]
    }
   ],
   "source": [
    "api = PushshiftAPI()"
   ]
  },
  {
   "cell_type": "code",
   "execution_count": 3,
   "metadata": {},
   "outputs": [],
   "source": [
    "import pandas as pd\n",
    "import datetime as dt"
   ]
  },
  {
   "cell_type": "code",
   "execution_count": 4,
   "metadata": {},
   "outputs": [],
   "source": [
    "import time"
   ]
  },
  {
   "cell_type": "markdown",
   "metadata": {},
   "source": [
    "## A. SCHIZOPHRENIA"
   ]
  },
  {
   "cell_type": "markdown",
   "metadata": {},
   "source": [
    "### 5년간의 data 수집: 2015-09-23 ~ 2020-09-23"
   ]
  },
  {
   "cell_type": "code",
   "execution_count": 5,
   "metadata": {},
   "outputs": [
    {
     "name": "stderr",
     "output_type": "stream",
     "text": [
      "/opt/anaconda3/lib/python3.7/site-packages/psaw/PushshiftAPI.py:192: UserWarning: Got non 200 code 502\n",
      "  warnings.warn(\"Got non 200 code %s\" % response.status_code)\n",
      "/opt/anaconda3/lib/python3.7/site-packages/psaw/PushshiftAPI.py:180: UserWarning: Unable to connect to pushshift.io. Retrying after backoff.\n",
      "  warnings.warn(\"Unable to connect to pushshift.io. Retrying after backoff.\")\n"
     ]
    },
    {
     "name": "stdout",
     "output_type": "stream",
     "text": [
      "2506.890534877777\n"
     ]
    }
   ],
   "source": [
    "# time check !\n",
    "start = time.time()\n",
    "temp = list(api.search_submissions(after=int(dt.datetime(2015, 9, 23).timestamp()), #시작 날짜\n",
    "                            subreddit='schizophrenia', #subreddit 종류\n",
    "                            filter=['url','author', 'title', 'subreddit', 'selftext', 'created_by']))\n",
    "print(time.time()-start)"
   ]
  },
  {
   "cell_type": "code",
   "execution_count": 6,
   "metadata": {},
   "outputs": [
    {
     "data": {
      "text/plain": [
       "60009"
      ]
     },
     "execution_count": 6,
     "metadata": {},
     "output_type": "execute_result"
    }
   ],
   "source": [
    "len(temp)"
   ]
  },
  {
   "cell_type": "code",
   "execution_count": 7,
   "metadata": {},
   "outputs": [],
   "source": [
    "a_list = [] # author\n",
    "t_list = [] # title\n",
    "s_list = [] # selftext(text context)\n",
    "times = [] \n",
    "\n",
    "for i in range(len(temp)):\n",
    "    a_list.append(temp[i][0])\n",
    "    times.append(dt.datetime.fromtimestamp(temp[i][1]).strftime('%Y-%m-%d %H:%M:%S'))\n",
    "    t_list.append(temp[i][4])\n",
    "    s_list.append(temp[i][2])\n",
    "    # subreddit: temp[i][3]"
   ]
  },
  {
   "cell_type": "code",
   "execution_count": 10,
   "metadata": {},
   "outputs": [
    {
     "name": "stdout",
     "output_type": "stream",
     "text": [
      "0.19372094185872119\n"
     ]
    }
   ],
   "source": [
    "# rate of non-text contents\n",
    "count = 0\n",
    "for i in range(len(temp)):\n",
    "    if len(s_list[i])== 0 and len(t_list[i])!= 0:\n",
    "        count +=1\n",
    "print(count/len(schizo_table))"
   ]
  },
  {
   "cell_type": "markdown",
   "metadata": {},
   "source": [
    "### 1. 해당 기간 내에 subreddit 에 업로드 된 게시글 모두"
   ]
  },
  {
   "cell_type": "code",
   "execution_count": 9,
   "metadata": {},
   "outputs": [],
   "source": [
    "schizo_table = pd.DataFrame({'subreddit': 'schizophrenia', \n",
    "                             'author': a_list, \n",
    "                              'title': t_list, \n",
    "                              'text_context': s_list ,\n",
    "                             'date':times\n",
    "                       })"
   ]
  },
  {
   "cell_type": "code",
   "execution_count": 11,
   "metadata": {},
   "outputs": [],
   "source": [
    "schizo_table.to_csv('schizo_origin.csv', index = False)"
   ]
  },
  {
   "cell_type": "markdown",
   "metadata": {},
   "source": [
    "### 2. 글 또는 제목에 'diagnos'가 언급된 게시글 모으기"
   ]
  },
  {
   "cell_type": "code",
   "execution_count": 12,
   "metadata": {},
   "outputs": [],
   "source": [
    "a_list = [] # author\n",
    "t_list = [] # title\n",
    "s_list = [] # selftext(text context)\n",
    "times = [] \n",
    "for i in range(len(temp)):\n",
    "    if 'diagnos' in temp[i][4] or 'diagnos' in temp[i][2]:\n",
    "        if 'schizophrenia' in temp[i][4] or 'schizophrenia' in temp[i][2]:\n",
    "            a_list.append(temp[i][0])\n",
    "            times.append( dt.datetime.fromtimestamp(temp[i][1]).strftime('%Y-%m-%d %H:%M:%S') )\n",
    "            t_list.append(temp[i][4])\n",
    "            s_list.append(temp[i][2])"
   ]
  },
  {
   "cell_type": "code",
   "execution_count": 13,
   "metadata": {},
   "outputs": [],
   "source": [
    "schizo_dia_table = pd.DataFrame({'subreddit': 'schizophrenia', \n",
    "                             'author': a_list, \n",
    "                              'title': t_list, \n",
    "                              'text_context': s_list ,\n",
    "                                'date':times\n",
    "               })"
   ]
  },
  {
   "cell_type": "code",
   "execution_count": 14,
   "metadata": {},
   "outputs": [],
   "source": [
    "schizo_dia_table.to_csv('schizo_with_diagnose.csv', index = False)"
   ]
  },
  {
   "cell_type": "markdown",
   "metadata": {},
   "source": [
    "### 3) 특정 게시자가 해당 정신질환 서브레딧에 작성한 글 모으기"
   ]
  },
  {
   "cell_type": "code",
   "execution_count": 33,
   "metadata": {},
   "outputs": [],
   "source": [
    "#schizo_dia_table = pd.read_csv('schizo_with_diagnose.csv')"
   ]
  },
  {
   "cell_type": "code",
   "execution_count": 36,
   "metadata": {},
   "outputs": [
    {
     "data": {
      "text/plain": [
       "3645"
      ]
     },
     "execution_count": 36,
     "metadata": {},
     "output_type": "execute_result"
    }
   ],
   "source": [
    "len(schizo_dia_table)"
   ]
  },
  {
   "cell_type": "code",
   "execution_count": 38,
   "metadata": {},
   "outputs": [
    {
     "data": {
      "text/plain": [
       "3012"
      ]
     },
     "execution_count": 38,
     "metadata": {},
     "output_type": "execute_result"
    }
   ],
   "source": [
    "len(list(schizo_dia_table['author'].unique()))"
   ]
  },
  {
   "cell_type": "code",
   "execution_count": 60,
   "metadata": {},
   "outputs": [
    {
     "name": "stdout",
     "output_type": "stream",
     "text": [
      "2664\n",
      "0.8844621513944223\n"
     ]
    }
   ],
   "source": [
    "#### 코드 수정 및 보류 필요 \n",
    "total = 0\n",
    "for counts in list(schizo_dia_table['author'].value_counts()):\n",
    "    if counts == 1: total+=1\n",
    "print(total)\n",
    "print(total/len(list(schizo_dia_table['author'].unique()))) \n",
    "# 대부분의 작성자(약 88%)가 r/schizophrenia에 한번만 글 작성"
   ]
  },
  {
   "cell_type": "code",
   "execution_count": 62,
   "metadata": {},
   "outputs": [],
   "source": [
    "schizo_authors = list(schizo_dia_table['author'].unique())"
   ]
  },
  {
   "cell_type": "markdown",
   "metadata": {},
   "source": [
    "## B. ADHD"
   ]
  },
  {
   "cell_type": "code",
   "execution_count": 6,
   "metadata": {},
   "outputs": [
    {
     "data": {
      "text/plain": [
       "1600908225.202477"
      ]
     },
     "execution_count": 6,
     "metadata": {},
     "output_type": "execute_result"
    }
   ],
   "source": [
    "start = time.time()\n",
    "start"
   ]
  },
  {
   "cell_type": "code",
   "execution_count": 7,
   "metadata": {},
   "outputs": [
    {
     "name": "stderr",
     "output_type": "stream",
     "text": [
      "/opt/anaconda3/lib/python3.7/site-packages/psaw/PushshiftAPI.py:192: UserWarning: Got non 200 code 502\n",
      "  warnings.warn(\"Got non 200 code %s\" % response.status_code)\n",
      "/opt/anaconda3/lib/python3.7/site-packages/psaw/PushshiftAPI.py:180: UserWarning: Unable to connect to pushshift.io. Retrying after backoff.\n",
      "  warnings.warn(\"Unable to connect to pushshift.io. Retrying after backoff.\")\n",
      "/opt/anaconda3/lib/python3.7/site-packages/psaw/PushshiftAPI.py:244: UserWarning: Not all PushShift shards are active. Query results may be incomplete\n",
      "  warnings.warn(shards_down_message)\n"
     ]
    },
    {
     "name": "stdout",
     "output_type": "stream",
     "text": [
      "12387.287122011185\n"
     ]
    }
   ],
   "source": [
    "# time check !\n",
    "start = time.time()\n",
    "temp = list(api.search_submissions(after=int(dt.datetime(2015, 9, 23).timestamp()), #시작 날짜\n",
    "                            subreddit='ADHD', #subreddit 종류\n",
    "                            filter=['url','author', 'title', 'subreddit', 'selftext', 'created_by']))\n",
    "print(time.time()-start)"
   ]
  },
  {
   "cell_type": "code",
   "execution_count": 17,
   "metadata": {},
   "outputs": [
    {
     "data": {
      "text/plain": [
       "3.4409130894475513"
      ]
     },
     "execution_count": 17,
     "metadata": {},
     "output_type": "execute_result"
    }
   ],
   "source": [
    "12387.287122011185/3600"
   ]
  },
  {
   "cell_type": "code",
   "execution_count": 8,
   "metadata": {},
   "outputs": [
    {
     "data": {
      "text/plain": [
       "256053"
      ]
     },
     "execution_count": 8,
     "metadata": {},
     "output_type": "execute_result"
    }
   ],
   "source": [
    "len(temp)"
   ]
  },
  {
   "cell_type": "code",
   "execution_count": 9,
   "metadata": {},
   "outputs": [],
   "source": [
    "a_list = [] # author\n",
    "t_list = [] # title\n",
    "s_list = [] # selftext(text context)\n",
    "times = [] \n",
    "\n",
    "for i in range(len(temp)):\n",
    "    a_list.append(temp[i][0])\n",
    "    times.append(dt.datetime.fromtimestamp(temp[i][1]).strftime('%Y-%m-%d %H:%M:%S'))\n",
    "    t_list.append(temp[i][4])\n",
    "    s_list.append(temp[i][2])\n",
    "    # subreddit: temp[i][3]"
   ]
  },
  {
   "cell_type": "code",
   "execution_count": 11,
   "metadata": {},
   "outputs": [
    {
     "name": "stdout",
     "output_type": "stream",
     "text": [
      "0.017812718460631198\n"
     ]
    }
   ],
   "source": [
    "# rate of non-text contents\n",
    "count = 0\n",
    "for i in range(len(temp)):\n",
    "    if len(s_list[i])== 0 and len(t_list[i])!= 0:\n",
    "        count +=1\n",
    "print(count/len(adhd_table))"
   ]
  },
  {
   "cell_type": "markdown",
   "metadata": {},
   "source": [
    "### 1. 해당 기간에 업로드된 게시글 모두"
   ]
  },
  {
   "cell_type": "code",
   "execution_count": 10,
   "metadata": {},
   "outputs": [],
   "source": [
    "adhd_table = pd.DataFrame({'subreddit': 'ADHD', \n",
    "                             'author': a_list, \n",
    "                              'title': t_list, \n",
    "                              'text_context': s_list ,\n",
    "                           'date':times\n",
    "                       })"
   ]
  },
  {
   "cell_type": "code",
   "execution_count": 12,
   "metadata": {},
   "outputs": [],
   "source": [
    "adhd_table.to_csv('adhd_origin.csv', index = False)"
   ]
  },
  {
   "cell_type": "markdown",
   "metadata": {},
   "source": [
    "### 2. 글 또는 제목에 'diagnos'가 언급된 게시글 모으기"
   ]
  },
  {
   "cell_type": "code",
   "execution_count": 13,
   "metadata": {},
   "outputs": [],
   "source": [
    "a_list = [] # author\n",
    "t_list = [] # title\n",
    "s_list = [] # selftext(text context)\n",
    "times = [] \n",
    "for i in range(len(temp)):\n",
    "    if 'diagnos' in temp[i][4] or 'diagnos' in temp[i][2]:\n",
    "        if 'adhd' in temp[i][4] or 'adhd' in temp[i][2]:\n",
    "            a_list.append(temp[i][0])\n",
    "            times.append( dt.datetime.fromtimestamp(temp[i][1]).strftime('%Y-%m-%d %H:%M:%S') )\n",
    "            t_list.append(temp[i][4])\n",
    "            s_list.append(temp[i][2])"
   ]
  },
  {
   "cell_type": "code",
   "execution_count": 14,
   "metadata": {},
   "outputs": [],
   "source": [
    "adhd_dia_table = pd.DataFrame({'subreddit': 'ADHD', \n",
    "                             'author': a_list, \n",
    "                              'title': t_list, \n",
    "                              'text_context': s_list ,\n",
    "                               'date':times\n",
    "               })"
   ]
  },
  {
   "cell_type": "code",
   "execution_count": 15,
   "metadata": {},
   "outputs": [],
   "source": [
    "adhd_dia_table.to_csv('adhd_with_diagnose.csv', index = False)"
   ]
  },
  {
   "cell_type": "markdown",
   "metadata": {},
   "source": [
    "### 3. 특정 게시자가 작성한 글 모으기"
   ]
  },
  {
   "cell_type": "code",
   "execution_count": 30,
   "metadata": {},
   "outputs": [
    {
     "data": {
      "text/plain": [
       "8374"
      ]
     },
     "execution_count": 30,
     "metadata": {},
     "output_type": "execute_result"
    }
   ],
   "source": [
    "len(adhd_dia_table)"
   ]
  },
  {
   "cell_type": "code",
   "execution_count": 29,
   "metadata": {},
   "outputs": [
    {
     "data": {
      "text/plain": [
       "6886"
      ]
     },
     "execution_count": 29,
     "metadata": {},
     "output_type": "execute_result"
    }
   ],
   "source": [
    "len(list(adhd_dia_table['author'].unique()))"
   ]
  },
  {
   "cell_type": "code",
   "execution_count": 58,
   "metadata": {},
   "outputs": [
    {
     "data": {
      "text/plain": [
       "AutoModerator    180\n",
       "[deleted]         58\n",
       "r3rider           17\n",
       "TheBatarang       14\n",
       "sojayn            14\n",
       "                ... \n",
       "megs1288           1\n",
       "OmnipotenTurd      1\n",
       "Frenciulla         1\n",
       "helloitmeee        1\n",
       "thescouttf2        1\n",
       "Name: author, Length: 6886, dtype: int64"
      ]
     },
     "execution_count": 58,
     "metadata": {},
     "output_type": "execute_result"
    }
   ],
   "source": [
    "adhd_dia_table['author'].value_counts()"
   ]
  },
  {
   "cell_type": "code",
   "execution_count": 59,
   "metadata": {},
   "outputs": [
    {
     "name": "stdout",
     "output_type": "stream",
     "text": [
      "6042\n",
      "0.8774324716816729\n"
     ]
    }
   ],
   "source": [
    "### 코드 수정 및 보류 필요 \n",
    "total = 0\n",
    "for counts in list(adhd_dia_table['author'].value_counts()):\n",
    "    if counts == 1: total+=1\n",
    "print(total)\n",
    "print(total/len(list(adhd_dia_table['author'].unique()))) # 대부분의 user가 r/ADHD에 한번만 글 작성 "
   ]
  },
  {
   "cell_type": "code",
   "execution_count": 63,
   "metadata": {},
   "outputs": [],
   "source": [
    "adhd_authors = list(adhd_dia_table['author'].unique())"
   ]
  },
  {
   "cell_type": "code",
   "execution_count": 67,
   "metadata": {},
   "outputs": [],
   "source": [
    "duplicate_authors = []\n",
    "for schizo in schizo_authors:\n",
    "    if schizo in adhd_authors: duplicate_authors.append(schizo)"
   ]
  },
  {
   "cell_type": "code",
   "execution_count": 68,
   "metadata": {},
   "outputs": [
    {
     "data": {
      "text/plain": [
       "17"
      ]
     },
     "execution_count": 68,
     "metadata": {},
     "output_type": "execute_result"
    }
   ],
   "source": [
    "len(duplicate_authors)"
   ]
  },
  {
   "cell_type": "markdown",
   "metadata": {},
   "source": [
    "## C. bipolar"
   ]
  },
  {
   "cell_type": "code",
   "execution_count": 70,
   "metadata": {},
   "outputs": [
    {
     "name": "stdout",
     "output_type": "stream",
     "text": [
      "8642.04397892952\n"
     ]
    }
   ],
   "source": [
    "# time check !\n",
    "start = time.time() #13:38\n",
    "temp = list(api.search_submissions(after=int(dt.datetime(2015, 9, 23).timestamp()), #시작 날짜\n",
    "                            subreddit='bipolar', #subreddit 종류\n",
    "                            filter=['url','author', 'title', 'subreddit', 'selftext', 'created_by']))\n",
    "print(time.time()-start)"
   ]
  },
  {
   "cell_type": "code",
   "execution_count": 84,
   "metadata": {},
   "outputs": [
    {
     "data": {
      "text/plain": [
       "2.4005555555555556"
      ]
     },
     "execution_count": 84,
     "metadata": {},
     "output_type": "execute_result"
    }
   ],
   "source": [
    "8642/3600"
   ]
  },
  {
   "cell_type": "code",
   "execution_count": 71,
   "metadata": {},
   "outputs": [
    {
     "data": {
      "text/plain": [
       "162970"
      ]
     },
     "execution_count": 71,
     "metadata": {},
     "output_type": "execute_result"
    }
   ],
   "source": [
    "len(temp)"
   ]
  },
  {
   "cell_type": "markdown",
   "metadata": {},
   "source": [
    "### 1. 해당 기간에 업로드된 게시글 모두"
   ]
  },
  {
   "cell_type": "code",
   "execution_count": 72,
   "metadata": {},
   "outputs": [],
   "source": [
    "a_list = [] # author\n",
    "t_list = [] # title\n",
    "s_list = [] # selftext(text context)\n",
    "times = [] \n",
    "\n",
    "for i in range(len(temp)):\n",
    "    a_list.append(temp[i][0])\n",
    "    times.append(dt.datetime.fromtimestamp(temp[i][1]).strftime('%Y-%m-%d %H:%M:%S'))\n",
    "    t_list.append(temp[i][4])\n",
    "    s_list.append(temp[i][2])\n",
    "    # subreddit: temp[i][3]"
   ]
  },
  {
   "cell_type": "code",
   "execution_count": 74,
   "metadata": {},
   "outputs": [
    {
     "name": "stdout",
     "output_type": "stream",
     "text": [
      "0.19595017487881206\n"
     ]
    }
   ],
   "source": [
    "# rate of non-text contents\n",
    "count = 0\n",
    "for i in range(len(temp)):\n",
    "    if len(s_list[i])== 0 and len(t_list[i])!= 0:\n",
    "        count +=1\n",
    "print(count/len(bipolar_table))"
   ]
  },
  {
   "cell_type": "code",
   "execution_count": 73,
   "metadata": {},
   "outputs": [],
   "source": [
    "bipolar_table = pd.DataFrame({'subreddit': 'bipolar', \n",
    "                             'author': a_list, \n",
    "                              'title': t_list, \n",
    "                              'text_context': s_list ,\n",
    "                               'date':times\n",
    "               })"
   ]
  },
  {
   "cell_type": "code",
   "execution_count": 76,
   "metadata": {},
   "outputs": [],
   "source": [
    "bipolar_table.to_csv('bipolar_origin.csv', index = False)"
   ]
  },
  {
   "cell_type": "markdown",
   "metadata": {},
   "source": [
    "### 2. 글 또는 제목에 'diagnos'가 언급된 게시글 모으기"
   ]
  },
  {
   "cell_type": "code",
   "execution_count": 77,
   "metadata": {},
   "outputs": [],
   "source": [
    "a_list = [] # author\n",
    "t_list = [] # title\n",
    "s_list = [] # selftext(text context)\n",
    "times = [] \n",
    "for i in range(len(temp)):\n",
    "    if 'diagnos' in temp[i][4] or 'diagnos' in temp[i][2]:\n",
    "        if 'adhd' in temp[i][4] or 'adhd' in temp[i][2]:\n",
    "            a_list.append(temp[i][0])\n",
    "            times.append( dt.datetime.fromtimestamp(temp[i][1]).strftime('%Y-%m-%d %H:%M:%S') )\n",
    "            t_list.append(temp[i][4])\n",
    "            s_list.append(temp[i][2])"
   ]
  },
  {
   "cell_type": "code",
   "execution_count": 78,
   "metadata": {},
   "outputs": [],
   "source": [
    "bipolar_dia_table = pd.DataFrame({'subreddit': 'bipolar', \n",
    "                             'author': a_list, \n",
    "                              'title': t_list, \n",
    "                              'text_context': s_list ,\n",
    "                               'date':times\n",
    "               })"
   ]
  },
  {
   "cell_type": "code",
   "execution_count": 79,
   "metadata": {},
   "outputs": [],
   "source": [
    "bipolar_dia_table.to_csv('bipolar_with_diagnose.csv', index = False)"
   ]
  },
  {
   "cell_type": "markdown",
   "metadata": {},
   "source": [
    "### 3. 특정 게시자가 작성한 글 모으기"
   ]
  },
  {
   "cell_type": "code",
   "execution_count": 80,
   "metadata": {},
   "outputs": [
    {
     "data": {
      "text/plain": [
       "310"
      ]
     },
     "execution_count": 80,
     "metadata": {},
     "output_type": "execute_result"
    }
   ],
   "source": [
    "len(bipolar_dia_table)"
   ]
  },
  {
   "cell_type": "code",
   "execution_count": 81,
   "metadata": {},
   "outputs": [
    {
     "data": {
      "text/plain": [
       "285"
      ]
     },
     "execution_count": 81,
     "metadata": {},
     "output_type": "execute_result"
    }
   ],
   "source": [
    "len(list(bipolar_dia_table['author'].unique()))"
   ]
  },
  {
   "cell_type": "code",
   "execution_count": 82,
   "metadata": {},
   "outputs": [
    {
     "data": {
      "text/plain": [
       "rlmama                 3\n",
       "throwawayb383          3\n",
       "allegedlyemma          3\n",
       "lilgreenghouIs         2\n",
       "catshaiyayy            2\n",
       "                      ..\n",
       "dyingoutsidein         1\n",
       "PearBanda              1\n",
       "pinkpantsblackshirt    1\n",
       "Alligatorstew          1\n",
       "BisonOnTheProwl        1\n",
       "Name: author, Length: 285, dtype: int64"
      ]
     },
     "execution_count": 82,
     "metadata": {},
     "output_type": "execute_result"
    }
   ],
   "source": [
    "bipolar_dia_table['author'].value_counts()"
   ]
  },
  {
   "cell_type": "code",
   "execution_count": 83,
   "metadata": {},
   "outputs": [],
   "source": [
    "bipolar_authors = list(bipolar_dia_table['author'].unique())"
   ]
  },
  {
   "cell_type": "markdown",
   "metadata": {},
   "source": [
    "## D. DEPRESSION"
   ]
  },
  {
   "cell_type": "code",
   "execution_count": 7,
   "metadata": {
    "collapsed": true,
    "jupyter": {
     "outputs_hidden": true
    }
   },
   "outputs": [
    {
     "ename": "Exception",
     "evalue": "Unable to connect to pushshift.io. Max retries exceeded.",
     "output_type": "error",
     "traceback": [
      "\u001b[0;31m---------------------------------------------------------------------------\u001b[0m",
      "\u001b[0;31mException\u001b[0m                                 Traceback (most recent call last)",
      "\u001b[0;32m<ipython-input-7-a28d42e32a1f>\u001b[0m in \u001b[0;36m<module>\u001b[0;34m\u001b[0m\n\u001b[1;32m      4\u001b[0m                                    \u001b[0mbefore\u001b[0m \u001b[0;34m=\u001b[0m \u001b[0mint\u001b[0m\u001b[0;34m(\u001b[0m\u001b[0mdt\u001b[0m\u001b[0;34m.\u001b[0m\u001b[0mdatetime\u001b[0m\u001b[0;34m(\u001b[0m\u001b[0;36m2016\u001b[0m\u001b[0;34m,\u001b[0m \u001b[0;36m3\u001b[0m\u001b[0;34m,\u001b[0m \u001b[0;36m23\u001b[0m\u001b[0;34m)\u001b[0m\u001b[0;34m.\u001b[0m\u001b[0mtimestamp\u001b[0m\u001b[0;34m(\u001b[0m\u001b[0;34m)\u001b[0m\u001b[0;34m)\u001b[0m\u001b[0;34m,\u001b[0m\u001b[0;34m\u001b[0m\u001b[0;34m\u001b[0m\u001b[0m\n\u001b[1;32m      5\u001b[0m                             \u001b[0msubreddit\u001b[0m\u001b[0;34m=\u001b[0m\u001b[0;34m'depression'\u001b[0m\u001b[0;34m,\u001b[0m \u001b[0;31m#subreddit 종류\u001b[0m\u001b[0;34m\u001b[0m\u001b[0;34m\u001b[0m\u001b[0m\n\u001b[0;32m----> 6\u001b[0;31m                             filter=['url','author', 'title', 'subreddit', 'selftext', 'created_by']))\n\u001b[0m\u001b[1;32m      7\u001b[0m \u001b[0mprint\u001b[0m\u001b[0;34m(\u001b[0m\u001b[0mtime\u001b[0m\u001b[0;34m.\u001b[0m\u001b[0mtime\u001b[0m\u001b[0;34m(\u001b[0m\u001b[0;34m)\u001b[0m\u001b[0;34m-\u001b[0m\u001b[0mstart\u001b[0m\u001b[0;34m)\u001b[0m\u001b[0;34m\u001b[0m\u001b[0;34m\u001b[0m\u001b[0m\n",
      "\u001b[0;32m/opt/anaconda3/lib/python3.7/site-packages/psaw/PushshiftAPI.py\u001b[0m in \u001b[0;36m_search\u001b[0;34m(self, kind, stop_condition, return_batch, dataset, **kwargs)\u001b[0m\n\u001b[1;32m    228\u001b[0m         \u001b[0mendpoint\u001b[0m \u001b[0;34m=\u001b[0m \u001b[0;34m'{dataset}/{kind}/search'\u001b[0m\u001b[0;34m.\u001b[0m\u001b[0mformat\u001b[0m\u001b[0;34m(\u001b[0m\u001b[0mdataset\u001b[0m\u001b[0;34m=\u001b[0m\u001b[0mdataset\u001b[0m\u001b[0;34m,\u001b[0m \u001b[0mkind\u001b[0m\u001b[0;34m=\u001b[0m\u001b[0mkind\u001b[0m\u001b[0;34m)\u001b[0m\u001b[0;34m\u001b[0m\u001b[0;34m\u001b[0m\u001b[0m\n\u001b[1;32m    229\u001b[0m         \u001b[0murl\u001b[0m \u001b[0;34m=\u001b[0m \u001b[0mself\u001b[0m\u001b[0;34m.\u001b[0m\u001b[0mbase_url\u001b[0m\u001b[0;34m.\u001b[0m\u001b[0mformat\u001b[0m\u001b[0;34m(\u001b[0m\u001b[0mendpoint\u001b[0m\u001b[0;34m=\u001b[0m\u001b[0mendpoint\u001b[0m\u001b[0;34m)\u001b[0m\u001b[0;34m\u001b[0m\u001b[0;34m\u001b[0m\u001b[0m\n\u001b[0;32m--> 230\u001b[0;31m         \u001b[0;32mfor\u001b[0m \u001b[0mresponse\u001b[0m \u001b[0;32min\u001b[0m \u001b[0mself\u001b[0m\u001b[0;34m.\u001b[0m\u001b[0m_handle_paging\u001b[0m\u001b[0;34m(\u001b[0m\u001b[0murl\u001b[0m\u001b[0;34m)\u001b[0m\u001b[0;34m:\u001b[0m\u001b[0;34m\u001b[0m\u001b[0;34m\u001b[0m\u001b[0m\n\u001b[0m\u001b[1;32m    231\u001b[0m             \u001b[0;32mif\u001b[0m \u001b[0;34m'aggs'\u001b[0m \u001b[0;32min\u001b[0m \u001b[0mresponse\u001b[0m\u001b[0;34m:\u001b[0m\u001b[0;34m\u001b[0m\u001b[0;34m\u001b[0m\u001b[0m\n\u001b[1;32m    232\u001b[0m                 \u001b[0;32myield\u001b[0m \u001b[0mresponse\u001b[0m\u001b[0;34m[\u001b[0m\u001b[0;34m'aggs'\u001b[0m\u001b[0;34m]\u001b[0m\u001b[0;34m\u001b[0m\u001b[0;34m\u001b[0m\u001b[0m\n",
      "\u001b[0;32m/opt/anaconda3/lib/python3.7/site-packages/psaw/PushshiftAPI.py\u001b[0m in \u001b[0;36m_handle_paging\u001b[0;34m(self, url)\u001b[0m\n\u001b[1;32m    213\u001b[0m             \u001b[0mself\u001b[0m\u001b[0;34m.\u001b[0m\u001b[0m_add_nec_args\u001b[0m\u001b[0;34m(\u001b[0m\u001b[0mself\u001b[0m\u001b[0;34m.\u001b[0m\u001b[0mpayload\u001b[0m\u001b[0;34m)\u001b[0m\u001b[0;34m\u001b[0m\u001b[0;34m\u001b[0m\u001b[0m\n\u001b[1;32m    214\u001b[0m \u001b[0;34m\u001b[0m\u001b[0m\n\u001b[0;32m--> 215\u001b[0;31m             \u001b[0;32myield\u001b[0m \u001b[0mself\u001b[0m\u001b[0;34m.\u001b[0m\u001b[0m_get\u001b[0m\u001b[0;34m(\u001b[0m\u001b[0murl\u001b[0m\u001b[0;34m,\u001b[0m \u001b[0mself\u001b[0m\u001b[0;34m.\u001b[0m\u001b[0mpayload\u001b[0m\u001b[0;34m)\u001b[0m\u001b[0;34m\u001b[0m\u001b[0;34m\u001b[0m\u001b[0m\n\u001b[0m\u001b[1;32m    216\u001b[0m \u001b[0;34m\u001b[0m\u001b[0m\n\u001b[1;32m    217\u001b[0m             \u001b[0;32mif\u001b[0m \u001b[0;34m(\u001b[0m\u001b[0mlimit\u001b[0m \u001b[0;32mis\u001b[0m \u001b[0;32mnot\u001b[0m \u001b[0;32mNone\u001b[0m\u001b[0;34m)\u001b[0m \u001b[0;34m&\u001b[0m \u001b[0;34m(\u001b[0m\u001b[0mlimit\u001b[0m \u001b[0;34m==\u001b[0m \u001b[0;36m0\u001b[0m\u001b[0;34m)\u001b[0m\u001b[0;34m:\u001b[0m\u001b[0;34m\u001b[0m\u001b[0;34m\u001b[0m\u001b[0m\n",
      "\u001b[0;32m/opt/anaconda3/lib/python3.7/site-packages/psaw/PushshiftAPI.py\u001b[0m in \u001b[0;36m_get\u001b[0;34m(self, url, payload)\u001b[0m\n\u001b[1;32m    192\u001b[0m                 \u001b[0mwarnings\u001b[0m\u001b[0;34m.\u001b[0m\u001b[0mwarn\u001b[0m\u001b[0;34m(\u001b[0m\u001b[0;34m\"Got non 200 code %s\"\u001b[0m \u001b[0;34m%\u001b[0m \u001b[0mresponse\u001b[0m\u001b[0;34m.\u001b[0m\u001b[0mstatus_code\u001b[0m\u001b[0;34m)\u001b[0m\u001b[0;34m\u001b[0m\u001b[0;34m\u001b[0m\u001b[0m\n\u001b[1;32m    193\u001b[0m         \u001b[0;32mif\u001b[0m \u001b[0;32mnot\u001b[0m \u001b[0msuccess\u001b[0m\u001b[0;34m:\u001b[0m\u001b[0;34m\u001b[0m\u001b[0;34m\u001b[0m\u001b[0m\n\u001b[0;32m--> 194\u001b[0;31m             \u001b[0;32mraise\u001b[0m \u001b[0mException\u001b[0m\u001b[0;34m(\u001b[0m\u001b[0;34m\"Unable to connect to pushshift.io. Max retries exceeded.\"\u001b[0m\u001b[0;34m)\u001b[0m\u001b[0;34m\u001b[0m\u001b[0;34m\u001b[0m\u001b[0m\n\u001b[0m\u001b[1;32m    195\u001b[0m         \u001b[0;32mreturn\u001b[0m \u001b[0mjson\u001b[0m\u001b[0;34m.\u001b[0m\u001b[0mloads\u001b[0m\u001b[0;34m(\u001b[0m\u001b[0mresponse\u001b[0m\u001b[0;34m.\u001b[0m\u001b[0mtext\u001b[0m\u001b[0;34m)\u001b[0m\u001b[0;34m\u001b[0m\u001b[0;34m\u001b[0m\u001b[0m\n\u001b[1;32m    196\u001b[0m \u001b[0;34m\u001b[0m\u001b[0m\n",
      "\u001b[0;31mException\u001b[0m: Unable to connect to pushshift.io. Max retries exceeded."
     ]
    }
   ],
   "source": [
    "# time check !\n",
    "start = time.time() #09:16\n",
    "temp = list(api.search_submissions(after=int(dt.datetime(2015, 9, 23).timestamp()), #시작 날짜\n",
    "                                   before = int(dt.datetime(2016, 3, 23).timestamp()),\n",
    "                            subreddit='depression', #subreddit 종류\n",
    "                            filter=['url','author', 'title', 'subreddit', 'selftext', 'created_by']))\n",
    "print(time.time()-start)"
   ]
  },
  {
   "cell_type": "code",
   "execution_count": null,
   "metadata": {},
   "outputs": [],
   "source": [
    "len(temp)"
   ]
  },
  {
   "cell_type": "code",
   "execution_count": null,
   "metadata": {},
   "outputs": [],
   "source": [
    "a_list = [] # author\n",
    "t_list = [] # title\n",
    "s_list = [] # selftext(text context)\n",
    "times = [] \n",
    "\n",
    "for i in range(len(temp)):\n",
    "    a_list.append(temp[i][0])\n",
    "    times.append(dt.datetime.fromtimestamp(temp[i][1]).strftime('%Y-%m-%d %H:%M:%S'))\n",
    "    t_list.append(temp[i][4])\n",
    "    s_list.append(temp[i][2])\n",
    "    # subreddit: temp[i][3]"
   ]
  },
  {
   "cell_type": "code",
   "execution_count": null,
   "metadata": {},
   "outputs": [],
   "source": [
    "depress_table = pd.DataFrame({'subreddit': 'depression', \n",
    "                             'author': a_list, \n",
    "                              'title': t_list, \n",
    "                              'text_context': s_list ,\n",
    "                               'date':times\n",
    "               })"
   ]
  },
  {
   "cell_type": "code",
   "execution_count": null,
   "metadata": {},
   "outputs": [],
   "source": [
    "# rate of non-text contents\n",
    "count = 0\n",
    "for i in range(len(temp)):\n",
    "    if len(s_list[i])== 0 and len(t_list[i])!= 0:\n",
    "        count +=1\n",
    "print(count/len(depress_table))"
   ]
  },
  {
   "cell_type": "code",
   "execution_count": null,
   "metadata": {},
   "outputs": [],
   "source": [
    "depress_table.to_csv('depress_origin.csv', index = False)"
   ]
  },
  {
   "cell_type": "code",
   "execution_count": null,
   "metadata": {},
   "outputs": [],
   "source": [
    "a_list = [] # author\n",
    "t_list = [] # title\n",
    "s_list = [] # selftext(text context)\n",
    "times = [] \n",
    "for i in range(len(temp)):\n",
    "    if 'diagnos' in temp[i][4] or 'diagnos' in temp[i][2]:\n",
    "        if 'depress' in temp[i][4] or 'depress' in temp[i][2]:\n",
    "            a_list.append(temp[i][0])\n",
    "            times.append( dt.datetime.fromtimestamp(temp[i][1]).strftime('%Y-%m-%d %H:%M:%S') )\n",
    "            t_list.append(temp[i][4])\n",
    "            s_list.append(temp[i][2])"
   ]
  },
  {
   "cell_type": "code",
   "execution_count": null,
   "metadata": {},
   "outputs": [],
   "source": [
    "depress_dia_table = pd.DataFrame({'subreddit': 'depress', \n",
    "                             'author': a_list, \n",
    "                              'title': t_list, \n",
    "                              'text_context': s_list ,\n",
    "                               'date':times\n",
    "               })"
   ]
  },
  {
   "cell_type": "code",
   "execution_count": null,
   "metadata": {},
   "outputs": [],
   "source": [
    "depress_dia_table.to_csv('depress_with_diagnose.csv', index = False)"
   ]
  },
  {
   "cell_type": "code",
   "execution_count": null,
   "metadata": {},
   "outputs": [],
   "source": [
    "len(depress_dia_table)"
   ]
  },
  {
   "cell_type": "code",
   "execution_count": null,
   "metadata": {
    "collapsed": true,
    "jupyter": {
     "outputs_hidden": true
    }
   },
   "outputs": [],
   "source": [
    "depress_authors = list(depress_dia_table['author'].unique())"
   ]
  },
  {
   "cell_type": "markdown",
   "metadata": {},
   "source": [
    "## load data"
   ]
  },
  {
   "cell_type": "code",
   "execution_count": 1,
   "metadata": {},
   "outputs": [],
   "source": [
    "import pandas as pd"
   ]
  },
  {
   "cell_type": "code",
   "execution_count": 3,
   "metadata": {},
   "outputs": [],
   "source": [
    "adhd_origin = pd.read_csv('adhd_origin.csv')\n",
    "adhd_with_diagnose = pd.read_csv('adhd_with_diagnose.csv')"
   ]
  },
  {
   "cell_type": "code",
   "execution_count": 5,
   "metadata": {},
   "outputs": [],
   "source": [
    "schizo_origin = pd.read_csv('schizo_origin.csv')\n",
    "schizo_with_diagnose = pd.read_csv('schizo_with_diagnose.csv')"
   ]
  },
  {
   "cell_type": "code",
   "execution_count": 8,
   "metadata": {},
   "outputs": [],
   "source": [
    "bipolar_origin = pd.read_csv('bipolar_origin.csv')\n",
    "bipolar_with_diagnose = pd.read_csv('bipolar_with_diagnose.csv')"
   ]
  },
  {
   "cell_type": "code",
   "execution_count": null,
   "metadata": {},
   "outputs": [],
   "source": [
    "# 질병당 약 5만개 ??"
   ]
  },
  {
   "cell_type": "code",
   "execution_count": 9,
   "metadata": {},
   "outputs": [],
   "source": [
    "schizo_authors = list(schizo_with_diagnose['author'].unique())\n",
    "adhd_authors = list(adhd_with_diagnose['author'].unique())\n",
    "bipolar_authors = list(bipolar_with_diagnose['author'].unique())"
   ]
  },
  {
   "cell_type": "code",
   "execution_count": 10,
   "metadata": {},
   "outputs": [
    {
     "data": {
      "text/plain": [
       "3012"
      ]
     },
     "execution_count": 10,
     "metadata": {},
     "output_type": "execute_result"
    }
   ],
   "source": [
    "len(schizo_authors)"
   ]
  },
  {
   "cell_type": "code",
   "execution_count": 11,
   "metadata": {},
   "outputs": [
    {
     "data": {
      "text/plain": [
       "6886"
      ]
     },
     "execution_count": 11,
     "metadata": {},
     "output_type": "execute_result"
    }
   ],
   "source": [
    "len(adhd_authors)"
   ]
  },
  {
   "cell_type": "code",
   "execution_count": 12,
   "metadata": {},
   "outputs": [
    {
     "data": {
      "text/plain": [
       "285"
      ]
     },
     "execution_count": 12,
     "metadata": {},
     "output_type": "execute_result"
    }
   ],
   "source": [
    "len(bipolar_authors)"
   ]
  },
  {
   "cell_type": "code",
   "execution_count": 24,
   "metadata": {},
   "outputs": [],
   "source": [
    "schizo_temp = list(schizo_origin['author'])\n",
    "count = 0\n",
    "for schizo in schizo_temp:\n",
    "    if schizo in schizo_authors:\n",
    "        count +=1"
   ]
  },
  {
   "cell_type": "code",
   "execution_count": 25,
   "metadata": {},
   "outputs": [
    {
     "name": "stdout",
     "output_type": "stream",
     "text": [
      "23721\n",
      "0.3952907063940409\n"
     ]
    }
   ],
   "source": [
    "print(count)\n",
    "print(count/len(schizo_origin))"
   ]
  },
  {
   "cell_type": "code",
   "execution_count": 26,
   "metadata": {},
   "outputs": [],
   "source": [
    "bipolar_temp = list(bipolar_origin['author'])\n",
    "count = 0\n",
    "for bipolar in bipolar_temp:\n",
    "    if bipolar in bipolar_authors:\n",
    "        count +=1"
   ]
  },
  {
   "cell_type": "code",
   "execution_count": 27,
   "metadata": {},
   "outputs": [
    {
     "name": "stdout",
     "output_type": "stream",
     "text": [
      "3209\n",
      "0.019688807627649\n"
     ]
    }
   ],
   "source": [
    "print(count)\n",
    "print(count/len(bipolar_origin))"
   ]
  },
  {
   "cell_type": "code",
   "execution_count": 28,
   "metadata": {},
   "outputs": [],
   "source": [
    "adhd_temp = list(adhd_origin['author'])\n",
    "count = 0\n",
    "for adhd in adhd_temp:\n",
    "    if adhd in adhd_authors:\n",
    "        count +=1"
   ]
  },
  {
   "cell_type": "code",
   "execution_count": 29,
   "metadata": {},
   "outputs": [
    {
     "name": "stdout",
     "output_type": "stream",
     "text": [
      "44103\n",
      "0.1722336125593111\n"
     ]
    }
   ],
   "source": [
    "print(count)\n",
    "print(count/len(adhd_origin))"
   ]
  },
  {
   "cell_type": "code",
   "execution_count": 32,
   "metadata": {},
   "outputs": [
    {
     "data": {
      "text/plain": [
       "73.99499999999998"
      ]
     },
     "execution_count": 32,
     "metadata": {},
     "output_type": "execute_result"
    }
   ],
   "source": [
    "115*0.9*0.7 + 115*0.25*0.3 - 24*0.1*0.7 - 24*0.75*0.3 "
   ]
  },
  {
   "cell_type": "code",
   "execution_count": null,
   "metadata": {},
   "outputs": [],
   "source": []
  }
 ],
 "metadata": {
  "kernelspec": {
   "display_name": "Python 3",
   "language": "python",
   "name": "python3"
  },
  "language_info": {
   "codemirror_mode": {
    "name": "ipython",
    "version": 3
   },
   "file_extension": ".py",
   "mimetype": "text/x-python",
   "name": "python",
   "nbconvert_exporter": "python",
   "pygments_lexer": "ipython3",
   "version": "3.7.6"
  }
 },
 "nbformat": 4,
 "nbformat_minor": 4
}
